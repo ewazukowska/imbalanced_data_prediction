{
  "cells": [
    {
      "cell_type": "code",
      "execution_count": 1,
      "metadata": {
        "id": "iLPf2S9-PYtS",
        "colab": {
          "base_uri": "https://localhost:8080/"
        },
        "outputId": "1620c036-fc4c-4ccc-ad42-b6fecbd01a08",
        "collapsed": true
      },
      "outputs": [
        {
          "output_type": "stream",
          "name": "stdout",
          "text": [
            "Collecting medmnist\n",
            "  Downloading medmnist-3.0.2-py3-none-any.whl.metadata (14 kB)\n",
            "Collecting libauc\n",
            "  Downloading libauc-1.4.0-py3-none-any.whl.metadata (8.1 kB)\n",
            "Requirement already satisfied: numpy in /usr/local/lib/python3.10/dist-packages (from medmnist) (1.26.4)\n",
            "Requirement already satisfied: pandas in /usr/local/lib/python3.10/dist-packages (from medmnist) (2.2.2)\n",
            "Requirement already satisfied: scikit-learn in /usr/local/lib/python3.10/dist-packages (from medmnist) (1.6.0)\n",
            "Requirement already satisfied: scikit-image in /usr/local/lib/python3.10/dist-packages (from medmnist) (0.25.0)\n",
            "Requirement already satisfied: tqdm in /usr/local/lib/python3.10/dist-packages (from medmnist) (4.67.1)\n",
            "Requirement already satisfied: Pillow in /usr/local/lib/python3.10/dist-packages (from medmnist) (11.1.0)\n",
            "Collecting fire (from medmnist)\n",
            "  Downloading fire-0.7.0.tar.gz (87 kB)\n",
            "\u001b[2K     \u001b[90m━━━━━━━━━━━━━━━━━━━━━━━━━━━━━━━━━━━━━━━━\u001b[0m \u001b[32m87.2/87.2 kB\u001b[0m \u001b[31m4.7 MB/s\u001b[0m eta \u001b[36m0:00:00\u001b[0m\n",
            "\u001b[?25h  Preparing metadata (setup.py) ... \u001b[?25l\u001b[?25hdone\n",
            "Requirement already satisfied: torch in /usr/local/lib/python3.10/dist-packages (from medmnist) (2.5.1+cu121)\n",
            "Requirement already satisfied: torchvision in /usr/local/lib/python3.10/dist-packages (from medmnist) (0.20.1+cu121)\n",
            "Requirement already satisfied: scipy in /usr/local/lib/python3.10/dist-packages (from libauc) (1.13.1)\n",
            "Requirement already satisfied: opencv-python in /usr/local/lib/python3.10/dist-packages (from libauc) (4.10.0.84)\n",
            "Collecting torch-geometric (from libauc)\n",
            "  Downloading torch_geometric-2.6.1-py3-none-any.whl.metadata (63 kB)\n",
            "\u001b[2K     \u001b[90m━━━━━━━━━━━━━━━━━━━━━━━━━━━━━━━━━━━━━━━━\u001b[0m \u001b[32m63.1/63.1 kB\u001b[0m \u001b[31m3.3 MB/s\u001b[0m eta \u001b[36m0:00:00\u001b[0m\n",
            "\u001b[?25hCollecting ogb (from libauc)\n",
            "  Downloading ogb-1.3.6-py3-none-any.whl.metadata (6.2 kB)\n",
            "Collecting webdataset (from libauc)\n",
            "  Downloading webdataset-0.2.100-py3-none-any.whl.metadata (12 kB)\n",
            "Requirement already satisfied: termcolor in /usr/local/lib/python3.10/dist-packages (from fire->medmnist) (2.5.0)\n",
            "Requirement already satisfied: six>=1.12.0 in /usr/local/lib/python3.10/dist-packages (from ogb->libauc) (1.17.0)\n",
            "Requirement already satisfied: urllib3>=1.24.0 in /usr/local/lib/python3.10/dist-packages (from ogb->libauc) (2.3.0)\n",
            "Collecting outdated>=0.2.0 (from ogb->libauc)\n",
            "  Downloading outdated-0.2.2-py2.py3-none-any.whl.metadata (4.7 kB)\n",
            "Requirement already satisfied: python-dateutil>=2.8.2 in /usr/local/lib/python3.10/dist-packages (from pandas->medmnist) (2.8.2)\n",
            "Requirement already satisfied: pytz>=2020.1 in /usr/local/lib/python3.10/dist-packages (from pandas->medmnist) (2024.2)\n",
            "Requirement already satisfied: tzdata>=2022.7 in /usr/local/lib/python3.10/dist-packages (from pandas->medmnist) (2024.2)\n",
            "Requirement already satisfied: joblib>=1.2.0 in /usr/local/lib/python3.10/dist-packages (from scikit-learn->medmnist) (1.4.2)\n",
            "Requirement already satisfied: threadpoolctl>=3.1.0 in /usr/local/lib/python3.10/dist-packages (from scikit-learn->medmnist) (3.5.0)\n",
            "Requirement already satisfied: filelock in /usr/local/lib/python3.10/dist-packages (from torch->medmnist) (3.16.1)\n",
            "Requirement already satisfied: typing-extensions>=4.8.0 in /usr/local/lib/python3.10/dist-packages (from torch->medmnist) (4.12.2)\n",
            "Requirement already satisfied: networkx in /usr/local/lib/python3.10/dist-packages (from torch->medmnist) (3.4.2)\n",
            "Requirement already satisfied: jinja2 in /usr/local/lib/python3.10/dist-packages (from torch->medmnist) (3.1.5)\n",
            "Requirement already satisfied: fsspec in /usr/local/lib/python3.10/dist-packages (from torch->medmnist) (2024.10.0)\n",
            "Requirement already satisfied: sympy==1.13.1 in /usr/local/lib/python3.10/dist-packages (from torch->medmnist) (1.13.1)\n",
            "Requirement already satisfied: mpmath<1.4,>=1.1.0 in /usr/local/lib/python3.10/dist-packages (from sympy==1.13.1->torch->medmnist) (1.3.0)\n",
            "Requirement already satisfied: imageio!=2.35.0,>=2.33 in /usr/local/lib/python3.10/dist-packages (from scikit-image->medmnist) (2.36.1)\n",
            "Requirement already satisfied: tifffile>=2022.8.12 in /usr/local/lib/python3.10/dist-packages (from scikit-image->medmnist) (2024.12.12)\n",
            "Requirement already satisfied: packaging>=21 in /usr/local/lib/python3.10/dist-packages (from scikit-image->medmnist) (24.2)\n",
            "Requirement already satisfied: lazy-loader>=0.4 in /usr/local/lib/python3.10/dist-packages (from scikit-image->medmnist) (0.4)\n",
            "Requirement already satisfied: aiohttp in /usr/local/lib/python3.10/dist-packages (from torch-geometric->libauc) (3.11.11)\n",
            "Requirement already satisfied: psutil>=5.8.0 in /usr/local/lib/python3.10/dist-packages (from torch-geometric->libauc) (5.9.5)\n",
            "Requirement already satisfied: pyparsing in /usr/local/lib/python3.10/dist-packages (from torch-geometric->libauc) (3.2.1)\n",
            "Requirement already satisfied: requests in /usr/local/lib/python3.10/dist-packages (from torch-geometric->libauc) (2.32.3)\n",
            "Collecting braceexpand (from webdataset->libauc)\n",
            "  Downloading braceexpand-0.1.7-py2.py3-none-any.whl.metadata (3.0 kB)\n",
            "Requirement already satisfied: pyyaml in /usr/local/lib/python3.10/dist-packages (from webdataset->libauc) (6.0.2)\n",
            "Requirement already satisfied: setuptools>=44 in /usr/local/lib/python3.10/dist-packages (from outdated>=0.2.0->ogb->libauc) (75.1.0)\n",
            "Collecting littleutils (from outdated>=0.2.0->ogb->libauc)\n",
            "  Downloading littleutils-0.2.4-py3-none-any.whl.metadata (679 bytes)\n",
            "Requirement already satisfied: aiohappyeyeballs>=2.3.0 in /usr/local/lib/python3.10/dist-packages (from aiohttp->torch-geometric->libauc) (2.4.4)\n",
            "Requirement already satisfied: aiosignal>=1.1.2 in /usr/local/lib/python3.10/dist-packages (from aiohttp->torch-geometric->libauc) (1.3.2)\n",
            "Requirement already satisfied: async-timeout<6.0,>=4.0 in /usr/local/lib/python3.10/dist-packages (from aiohttp->torch-geometric->libauc) (4.0.3)\n",
            "Requirement already satisfied: attrs>=17.3.0 in /usr/local/lib/python3.10/dist-packages (from aiohttp->torch-geometric->libauc) (24.3.0)\n",
            "Requirement already satisfied: frozenlist>=1.1.1 in /usr/local/lib/python3.10/dist-packages (from aiohttp->torch-geometric->libauc) (1.5.0)\n",
            "Requirement already satisfied: multidict<7.0,>=4.5 in /usr/local/lib/python3.10/dist-packages (from aiohttp->torch-geometric->libauc) (6.1.0)\n",
            "Requirement already satisfied: propcache>=0.2.0 in /usr/local/lib/python3.10/dist-packages (from aiohttp->torch-geometric->libauc) (0.2.1)\n",
            "Requirement already satisfied: yarl<2.0,>=1.17.0 in /usr/local/lib/python3.10/dist-packages (from aiohttp->torch-geometric->libauc) (1.18.3)\n",
            "Requirement already satisfied: MarkupSafe>=2.0 in /usr/local/lib/python3.10/dist-packages (from jinja2->torch->medmnist) (3.0.2)\n",
            "Requirement already satisfied: charset-normalizer<4,>=2 in /usr/local/lib/python3.10/dist-packages (from requests->torch-geometric->libauc) (3.4.1)\n",
            "Requirement already satisfied: idna<4,>=2.5 in /usr/local/lib/python3.10/dist-packages (from requests->torch-geometric->libauc) (3.10)\n",
            "Requirement already satisfied: certifi>=2017.4.17 in /usr/local/lib/python3.10/dist-packages (from requests->torch-geometric->libauc) (2024.12.14)\n",
            "Downloading medmnist-3.0.2-py3-none-any.whl (25 kB)\n",
            "Downloading libauc-1.4.0-py3-none-any.whl (130 kB)\n",
            "\u001b[2K   \u001b[90m━━━━━━━━━━━━━━━━━━━━━━━━━━━━━━━━━━━━━━━━\u001b[0m \u001b[32m130.8/130.8 kB\u001b[0m \u001b[31m4.6 MB/s\u001b[0m eta \u001b[36m0:00:00\u001b[0m\n",
            "\u001b[?25hDownloading ogb-1.3.6-py3-none-any.whl (78 kB)\n",
            "\u001b[2K   \u001b[90m━━━━━━━━━━━━━━━━━━━━━━━━━━━━━━━━━━━━━━━━\u001b[0m \u001b[32m78.8/78.8 kB\u001b[0m \u001b[31m4.0 MB/s\u001b[0m eta \u001b[36m0:00:00\u001b[0m\n",
            "\u001b[?25hDownloading torch_geometric-2.6.1-py3-none-any.whl (1.1 MB)\n",
            "\u001b[2K   \u001b[90m━━━━━━━━━━━━━━━━━━━━━━━━━━━━━━━━━━━━━━━━\u001b[0m \u001b[32m1.1/1.1 MB\u001b[0m \u001b[31m11.6 MB/s\u001b[0m eta \u001b[36m0:00:00\u001b[0m\n",
            "\u001b[?25hDownloading webdataset-0.2.100-py3-none-any.whl (74 kB)\n",
            "\u001b[2K   \u001b[90m━━━━━━━━━━━━━━━━━━━━━━━━━━━━━━━━━━━━━━━━\u001b[0m \u001b[32m74.8/74.8 kB\u001b[0m \u001b[31m5.0 MB/s\u001b[0m eta \u001b[36m0:00:00\u001b[0m\n",
            "\u001b[?25hDownloading outdated-0.2.2-py2.py3-none-any.whl (7.5 kB)\n",
            "Downloading braceexpand-0.1.7-py2.py3-none-any.whl (5.9 kB)\n",
            "Downloading littleutils-0.2.4-py3-none-any.whl (8.1 kB)\n",
            "Building wheels for collected packages: fire\n",
            "  Building wheel for fire (setup.py) ... \u001b[?25l\u001b[?25hdone\n",
            "  Created wheel for fire: filename=fire-0.7.0-py3-none-any.whl size=114249 sha256=59d3ac08036f757526f42a29c0e766dc4905d7ef7bdebc3775627c2dfcc55144\n",
            "  Stored in directory: /root/.cache/pip/wheels/19/39/2f/2d3cadc408a8804103f1c34ddd4b9f6a93497b11fa96fe738e\n",
            "Successfully built fire\n",
            "Installing collected packages: braceexpand, webdataset, littleutils, fire, outdated, ogb, torch-geometric, medmnist, libauc\n",
            "Successfully installed braceexpand-0.1.7 fire-0.7.0 libauc-1.4.0 littleutils-0.2.4 medmnist-3.0.2 ogb-1.3.6 outdated-0.2.2 torch-geometric-2.6.1 webdataset-0.2.100\n"
          ]
        }
      ],
      "source": [
        "!pip install medmnist libauc"
      ]
    },
    {
      "cell_type": "code",
      "execution_count": 2,
      "metadata": {
        "id": "1vKfTr0ZrSNP"
      },
      "outputs": [],
      "source": [
        "import torch\n",
        "from torch import nn, optim\n",
        "from torch.utils.data import DataLoader\n",
        "from torchvision.transforms import Compose, ToTensor, Normalize, Resize\n",
        "from medmnist.dataset import ChestMNIST\n",
        "from torchvision.models import resnet18\n",
        "import numpy as np\n",
        "from sklearn.metrics import precision_recall_curve, auc\n",
        "from collections import Counter\n",
        "import matplotlib.pyplot as plt"
      ]
    },
    {
      "cell_type": "code",
      "execution_count": 3,
      "metadata": {
        "id": "bT4lnJ9CQ0kD"
      },
      "outputs": [],
      "source": [
        "def set_all_seeds(SEED):\n",
        "   # REPRODUCIBILITY\n",
        "   np.random.seed(SEED)\n",
        "   torch.manual_seed(SEED)\n",
        "   torch.cuda.manual_seed(SEED)\n",
        "   torch.backends.cudnn.deterministic = True\n",
        "   torch.backends.cudnn.benchmark = False\n",
        "set_all_seeds(2023)"
      ]
    },
    {
      "cell_type": "code",
      "execution_count": 4,
      "metadata": {
        "id": "z5R0LRSBQyXd"
      },
      "outputs": [],
      "source": [
        "# Hyper-Parameters\n",
        "lr = 1e-3\n",
        "margin = 0.6\n",
        "gamma = 0.1\n",
        "weight_decay = 2e-4\n",
        "total_epoch = 60\n",
        "decay_epoch = [30, 45]\n",
        "load_pretrain = False\n",
        "batch_size=128"
      ]
    },
    {
      "cell_type": "code",
      "execution_count": 5,
      "metadata": {
        "id": "Yxp5T7azrQ2W",
        "colab": {
          "base_uri": "https://localhost:8080/"
        },
        "outputId": "eb411215-9fb7-47df-d1c0-541d73ee2821"
      },
      "outputs": [
        {
          "output_type": "stream",
          "name": "stdout",
          "text": [
            "Downloading https://zenodo.org/records/10519652/files/chestmnist.npz?download=1 to /root/.medmnist/chestmnist.npz\n"
          ]
        },
        {
          "output_type": "stream",
          "name": "stderr",
          "text": [
            "100%|██████████| 82.8M/82.8M [00:08<00:00, 10.1MB/s]\n"
          ]
        },
        {
          "output_type": "stream",
          "name": "stdout",
          "text": [
            "Using downloaded and verified file: /root/.medmnist/chestmnist.npz\n",
            "Using downloaded and verified file: /root/.medmnist/chestmnist.npz\n"
          ]
        }
      ],
      "source": [
        "# Ustawienia\n",
        "device = torch.device(\"cuda\" if torch.cuda.is_available() else \"cpu\")\n",
        "batch_size = 128\n",
        "learning_rate = 0.001\n",
        "num_epochs = 20\n",
        "target_class = 2  # Klasa docelowa do klasyfikacji binarnej\n",
        "\n",
        "# Funkcja pomocnicza do obliczania AUC PRC\n",
        "def compute_auc_prc(y_true, y_scores):\n",
        "    precision, recall, _ = precision_recall_curve(y_true, y_scores)\n",
        "    return auc(recall, precision)\n",
        "\n",
        "# Transformacje danych\n",
        "transform = Compose([\n",
        "    ToTensor(),\n",
        "    Normalize(mean=[0.5], std=[0.5]),\n",
        "    Resize((32, 32))  # Opcjonalnie zmiana rozmiaru obrazu\n",
        "])\n",
        "\n",
        "# Ładowanie danych\n",
        "train_dataset_raw = ChestMNIST(split='train', transform=transform, download=True)\n",
        "val_dataset_raw = ChestMNIST(split='val', transform=transform, download=True)\n",
        "test_dataset_raw = ChestMNIST(split='test', transform=transform, download=True)"
      ]
    },
    {
      "cell_type": "code",
      "execution_count": 6,
      "metadata": {
        "id": "r3k02eVzrWbR"
      },
      "outputs": [],
      "source": [
        "# Przekształcanie etykiet na wartości binarne (1 dla klasy docelowej, 0 dla pozostałych)\n",
        "def binarize_labels(dataset, target_class):\n",
        "    dataset.labels = (dataset.labels.argmax(axis=1) == target_class).astype(float)\n",
        "    return dataset"
      ]
    },
    {
      "cell_type": "code",
      "execution_count": 7,
      "metadata": {
        "id": "x-kjwEC1rYHb",
        "colab": {
          "base_uri": "https://localhost:8080/"
        },
        "outputId": "50c55afc-99c5-48a9-9be0-c4f2eb596129"
      },
      "outputs": [
        {
          "output_type": "stream",
          "name": "stdout",
          "text": [
            "Rozkład klas w zbiorze treningowym: Counter({0.0: 72023, 1.0: 6445})\n"
          ]
        }
      ],
      "source": [
        "train_dataset_raw = binarize_labels(train_dataset_raw, target_class)\n",
        "val_dataset_raw = binarize_labels(val_dataset_raw, target_class)\n",
        "test_dataset_raw = binarize_labels(test_dataset_raw, target_class)\n",
        "\n",
        "# Sprawdzanie niezbalansowania\n",
        "train_labels = train_dataset_raw.labels\n",
        "train_class_counts = Counter(train_labels)\n",
        "print(\"Rozkład klas w zbiorze treningowym:\", train_class_counts)"
      ]
    },
    {
      "cell_type": "code",
      "source": [
        "train_class_counts[0]"
      ],
      "metadata": {
        "colab": {
          "base_uri": "https://localhost:8080/"
        },
        "id": "KxMXMBFz_axT",
        "outputId": "542f52d7-788b-4043-caa3-8186bff04cbe"
      },
      "execution_count": 11,
      "outputs": [
        {
          "output_type": "execute_result",
          "data": {
            "text/plain": [
              "72023"
            ]
          },
          "metadata": {},
          "execution_count": 11
        }
      ]
    },
    {
      "cell_type": "code",
      "execution_count": null,
      "metadata": {
        "id": "BE-fXtS1ra6B"
      },
      "outputs": [],
      "source": [
        "# DataLoadery\n",
        "train_loader = DataLoader(\n",
        "    train_dataset_raw, batch_size=batch_size, shuffle=True, num_workers=2\n",
        ")\n",
        "val_loader = DataLoader(\n",
        "    val_dataset_raw, batch_size=batch_size, shuffle=False, num_workers=2\n",
        ")\n",
        "test_loader = DataLoader(\n",
        "    test_dataset_raw, batch_size=batch_size, shuffle=False, num_workers=2\n",
        ")"
      ]
    },
    {
      "cell_type": "code",
      "source": [
        "def train_and_evaluate(critation):\n",
        "\n",
        "  model = resnet18(pretrained=False)\n",
        "  model.conv1 = nn.Conv2d(1, 64, kernel_size=7, stride=2, padding=3, bias=False)  # Dopasowanie do 1 kanału\n",
        "  model.fc = nn.Sequential(\n",
        "      nn.Linear(model.fc.in_features, 1),  # Klasyfikacja binarna\n",
        "      nn.Sigmoid()\n",
        "  )\n",
        "  model = model.to(device)\n",
        "\n",
        "  # Funkcja straty i optymalizator\n",
        "  optimizer = optim.Adam(model.parameters(), lr=learning_rate)\n",
        "\n",
        "  # Trenowanie\n",
        "  best_val_auc_prc = 0.0\n",
        "\n",
        "  for epoch in range(num_epochs):\n",
        "      model.train()\n",
        "      running_loss = 0.0\n",
        "\n",
        "      for images, labels in train_loader:\n",
        "          images, labels = images.to(device), labels.float().to(device)  # Przekształcenie etykiet na float\n",
        "\n",
        "          optimizer.zero_grad()\n",
        "          outputs = model(images).squeeze()\n",
        "          loss = criterion(outputs, labels)\n",
        "          loss.backward()\n",
        "          optimizer.step()\n",
        "\n",
        "          running_loss += loss.item()\n",
        "\n",
        "      print(f\"Epoch [{epoch + 1}/{num_epochs}], Loss: {running_loss / len(train_loader):.4f}\")\n",
        "\n",
        "      # Walidacja\n",
        "      model.eval()\n",
        "      val_true = []\n",
        "      val_pred = []\n",
        "\n",
        "      with torch.no_grad():\n",
        "          for images, labels in val_loader:\n",
        "              images, labels = images.to(device), labels.float().to(device)\n",
        "              outputs = model(images).squeeze()\n",
        "              val_true.extend(labels.cpu().numpy())\n",
        "              val_pred.extend(outputs.cpu().numpy())\n",
        "\n",
        "      val_auc_prc = compute_auc_prc(np.array(val_true), np.array(val_pred))\n",
        "      print(f\"Epoch [{epoch + 1}/{num_epochs}], Validation AUC PRC: {val_auc_prc:.4f}\")\n",
        "\n",
        "      # Zapis najlepszego modelu\n",
        "      if val_auc_prc > best_val_auc_prc:\n",
        "          best_val_auc_prc = val_auc_prc\n",
        "          torch.save(model.state_dict(), \"best_chestmnist_model.pth\")\n",
        "          print(f\"Best model saved with AUC PRC: {best_val_auc_prc:.4f}\")\n",
        "\n",
        "  # Testowanie\n",
        "  model.load_state_dict(torch.load(\"best_chestmnist_model.pth\"))\n",
        "  model.eval()\n",
        "\n",
        "  test_true = []\n",
        "  test_pred = []\n",
        "\n",
        "  with torch.no_grad():\n",
        "      for images, labels in test_loader:\n",
        "          images, labels = images.to(device), labels.float().to(device)\n",
        "          outputs = model(images).squeeze()\n",
        "          test_true.extend(labels.cpu().numpy())\n",
        "          test_pred.extend(outputs.cpu().numpy())\n",
        "\n",
        "  test_auc_prc = compute_auc_prc(np.array(test_true), np.array(test_pred))\n",
        "  print(f\"Test AUC PRC: {test_auc_prc:.4f}\")\n"
      ],
      "metadata": {
        "id": "ESvPvnTe-HcE"
      },
      "execution_count": null,
      "outputs": []
    },
    {
      "cell_type": "code",
      "execution_count": null,
      "metadata": {
        "colab": {
          "base_uri": "https://localhost:8080/"
        },
        "id": "RyXBT15iWx3-",
        "outputId": "b1d34475-0825-4cbe-a69a-7ca4d3349a4e"
      },
      "outputs": [
        {
          "output_type": "stream",
          "name": "stderr",
          "text": [
            "/usr/local/lib/python3.10/dist-packages/torchvision/models/_utils.py:208: UserWarning: The parameter 'pretrained' is deprecated since 0.13 and may be removed in the future, please use 'weights' instead.\n",
            "  warnings.warn(\n",
            "/usr/local/lib/python3.10/dist-packages/torchvision/models/_utils.py:223: UserWarning: Arguments other than a weight enum or `None` for 'weights' are deprecated since 0.13 and may be removed in the future. The current behavior is equivalent to passing `weights=None`.\n",
            "  warnings.warn(msg)\n"
          ]
        },
        {
          "output_type": "stream",
          "name": "stdout",
          "text": [
            "Epoch [1/20], Loss: 0.2628\n",
            "Epoch [1/20], Validation AUC PRC: 0.1801\n",
            "Best model saved with AUC PRC: 0.1801\n",
            "Epoch [2/20], Loss: 0.2489\n",
            "Epoch [2/20], Validation AUC PRC: 0.2232\n",
            "Best model saved with AUC PRC: 0.2232\n",
            "Epoch [3/20], Loss: 0.2444\n",
            "Epoch [3/20], Validation AUC PRC: 0.2286\n",
            "Best model saved with AUC PRC: 0.2286\n",
            "Epoch [4/20], Loss: 0.2398\n",
            "Epoch [4/20], Validation AUC PRC: 0.2425\n",
            "Best model saved with AUC PRC: 0.2425\n",
            "Epoch [5/20], Loss: 0.2452\n",
            "Epoch [5/20], Validation AUC PRC: 0.2242\n",
            "Epoch [6/20], Loss: 0.2372\n",
            "Epoch [6/20], Validation AUC PRC: 0.2562\n",
            "Best model saved with AUC PRC: 0.2562\n",
            "Epoch [7/20], Loss: 0.2334\n",
            "Epoch [7/20], Validation AUC PRC: 0.2705\n",
            "Best model saved with AUC PRC: 0.2705\n",
            "Epoch [8/20], Loss: 0.2304\n",
            "Epoch [8/20], Validation AUC PRC: 0.2651\n",
            "Epoch [9/20], Loss: 0.2285\n",
            "Epoch [9/20], Validation AUC PRC: 0.2589\n",
            "Epoch [10/20], Loss: 0.2249\n",
            "Epoch [10/20], Validation AUC PRC: 0.2611\n",
            "Epoch [11/20], Loss: 0.2224\n",
            "Epoch [11/20], Validation AUC PRC: 0.2695\n",
            "Epoch [12/20], Loss: 0.2213\n",
            "Epoch [12/20], Validation AUC PRC: 0.2759\n",
            "Best model saved with AUC PRC: 0.2759\n",
            "Epoch [13/20], Loss: 0.2174\n",
            "Epoch [13/20], Validation AUC PRC: 0.2723\n",
            "Epoch [14/20], Loss: 0.2116\n",
            "Epoch [14/20], Validation AUC PRC: 0.2580\n",
            "Epoch [15/20], Loss: 0.2066\n",
            "Epoch [15/20], Validation AUC PRC: 0.2677\n",
            "Epoch [16/20], Loss: 0.2065\n",
            "Epoch [16/20], Validation AUC PRC: 0.2377\n",
            "Epoch [17/20], Loss: 0.2009\n",
            "Epoch [17/20], Validation AUC PRC: 0.2514\n",
            "Epoch [18/20], Loss: 0.1886\n",
            "Epoch [18/20], Validation AUC PRC: 0.2615\n",
            "Epoch [19/20], Loss: 0.1794\n",
            "Epoch [19/20], Validation AUC PRC: 0.2366\n",
            "Epoch [20/20], Loss: 0.1689\n",
            "Epoch [20/20], Validation AUC PRC: 0.2146\n"
          ]
        },
        {
          "output_type": "stream",
          "name": "stderr",
          "text": [
            "<ipython-input-9-2394a196ed0e>:56: FutureWarning: You are using `torch.load` with `weights_only=False` (the current default value), which uses the default pickle module implicitly. It is possible to construct malicious pickle data which will execute arbitrary code during unpickling (See https://github.com/pytorch/pytorch/blob/main/SECURITY.md#untrusted-models for more details). In a future release, the default value for `weights_only` will be flipped to `True`. This limits the functions that could be executed during unpickling. Arbitrary objects will no longer be allowed to be loaded via this mode unless they are explicitly allowlisted by the user via `torch.serialization.add_safe_globals`. We recommend you start setting `weights_only=True` for any use case where you don't have full control of the loaded file. Please open an issue on GitHub for any issues related to this experimental feature.\n",
            "  model.load_state_dict(torch.load(\"best_chestmnist_model.pth\"))\n"
          ]
        },
        {
          "output_type": "stream",
          "name": "stdout",
          "text": [
            "Test AUC PRC: 0.2623\n"
          ]
        }
      ],
      "source": [
        "pos_weight = torch.tensor([train_class_counts[0]+train_class_counts[1]/ train_class_counts[0]], dtype=torch.float)\n",
        "criterion_wce = nn.BCEWithLogitsLoss(pos_weight=pos_weight)\n",
        "\n",
        "trian_and_evaluate(criterion_wce)"
      ]
    },
    {
      "cell_type": "code",
      "execution_count": null,
      "metadata": {
        "id": "v0O8RsoDlKa_",
        "colab": {
          "base_uri": "https://localhost:8080/",
          "height": 869
        },
        "outputId": "ea2bb425-ad74-4da0-eb9f-a703ec693e77"
      },
      "outputs": [
        {
          "output_type": "stream",
          "name": "stdout",
          "text": [
            "=== Metryki Testowe === Binary Cross-Entropy Loss ==== \n",
            "AUC-PRC: 0.2623\n",
            "AUC-ROC: 0.7915\n",
            "Accuracy: 0.9182\n",
            "Precision: 0.4769\n",
            "Recall: 0.0169\n",
            "F1-score: 0.0327\n",
            "\n",
            "Confusion Matrix:\n",
            "[[20567    34]\n",
            " [ 1801    31]]\n",
            "\n",
            "Classification Report:\n",
            "              precision    recall  f1-score   support\n",
            "\n",
            "     Class 0       0.92      1.00      0.96     20601\n",
            "     Class 1       0.48      0.02      0.03      1832\n",
            "\n",
            "    accuracy                           0.92     22433\n",
            "   macro avg       0.70      0.51      0.49     22433\n",
            "weighted avg       0.88      0.92      0.88     22433\n",
            "\n"
          ]
        },
        {
          "output_type": "display_data",
          "data": {
            "text/plain": [
              "<Figure size 600x500 with 2 Axes>"
            ],
            "image/png": "[encoded data removed]"
          },
          "metadata": {}
        }
      ],
      "source": [
        "from sklearn.metrics import (\n",
        "    roc_auc_score, accuracy_score, precision_score, recall_score,\n",
        "    f1_score, confusion_matrix, classification_report\n",
        ")\n",
        "\n",
        "import numpy as np\n",
        "\n",
        "# Konwersja test_pred na NumPy array\n",
        "test_pred = np.array(test_pred)\n",
        "\n",
        "\n",
        "# Obliczanie dodatkowych metryk\n",
        "test_pred_binary = (test_pred > 0.5).astype(int)  # Binarne prognozy (próg 0.5)\n",
        "\n",
        "# AUC-ROC\n",
        "test_roc_auc = roc_auc_score(test_true, test_pred)\n",
        "\n",
        "# Accuracy, Precision, Recall, F1-score\n",
        "test_accuracy = accuracy_score(test_true, test_pred_binary)\n",
        "test_precision = precision_score(test_true, test_pred_binary)\n",
        "test_recall = recall_score(test_true, test_pred_binary)\n",
        "test_f1 = f1_score(test_true, test_pred_binary)\n",
        "\n",
        "# Confusion Matrix\n",
        "test_cm = confusion_matrix(test_true, test_pred_binary)\n",
        "\n",
        "# Classification Report\n",
        "test_report = classification_report(test_true, test_pred_binary, target_names=[\"Class 0\", \"Class 1\"])\n",
        "\n",
        "# Wyświetlanie wyników\n",
        "print(\"=== Metryki Testowe === Binary Cross-Entropy Loss ==== \")\n",
        "print(f\"AUC-PRC: {test_auc_prc:.4f}\")\n",
        "print(f\"AUC-ROC: {test_roc_auc:.4f}\")\n",
        "print(f\"Accuracy: {test_accuracy:.4f}\")\n",
        "print(f\"Precision: {test_precision:.4f}\")\n",
        "print(f\"Recall: {test_recall:.4f}\")\n",
        "print(f\"F1-score: {test_f1:.4f}\")\n",
        "print(\"\\nConfusion Matrix:\")\n",
        "print(test_cm)\n",
        "print(\"\\nClassification Report:\")\n",
        "print(test_report)\n",
        "\n",
        "# Wizualizacja Confusion Matrix\n",
        "import seaborn as sns\n",
        "plt.figure(figsize=(6, 5))\n",
        "sns.heatmap(test_cm, annot=True, fmt=\"d\", cmap=\"Blues\", xticklabels=[\"Class 0\", \"Class 1\"], yticklabels=[\"Class 0\", \"Class 1\"])\n",
        "plt.xlabel(\"Predicted\")\n",
        "plt.ylabel(\"Actual\")\n",
        "plt.title(\"Confusion Matrix\")\n",
        "plt.show()\n"
      ]
    },
    {
      "cell_type": "code",
      "execution_count": null,
      "metadata": {
        "id": "9BKw4xM2lBh1"
      },
      "outputs": [],
      "source": []
    },
    {
      "cell_type": "code",
      "execution_count": null,
      "metadata": {
        "id": "aHCD57uk3fpa",
        "colab": {
          "base_uri": "https://localhost:8080/"
        },
        "outputId": "b01f69db-11d4-413a-80ea-67e9cf429ca0"
      },
      "outputs": [
        {
          "output_type": "stream",
          "name": "stdout",
          "text": [
            "\n",
            "Classification Report:\n",
            "\n",
            "              precision    recall  f1-score   support\n",
            "\n",
            "  Not Target       0.92      1.00      0.96     20601\n",
            "      Target       0.48      0.02      0.03      1832\n",
            "\n",
            "    accuracy                           0.92     22433\n",
            "   macro avg       0.70      0.51      0.49     22433\n",
            "weighted avg       0.88      0.92      0.88     22433\n",
            "\n"
          ]
        }
      ],
      "source": [
        "from sklearn.metrics import average_precision_score, classification_report\n",
        "# Generowanie raportu dla najlepszego modelu\n",
        "test_pred_binary = (np.array(test_pred) > 0.5).astype(int)  # Konwersja na klasy binarne\n",
        "print(\"\\nClassification Report:\\n\")\n",
        "print(classification_report(test_true, test_pred_binary, target_names=[\"Not Target\", \"Target\"]))\n"
      ]
    },
    {
      "cell_type": "code",
      "execution_count": null,
      "metadata": {
        "id": "VVpxJNqm7vZ9"
      },
      "outputs": [],
      "source": [
        "beta = 0.99999"
      ]
    },
    {
      "cell_type": "code",
      "execution_count": null,
      "metadata": {
        "id": "jwwD73wZ8Aet",
        "colab": {
          "base_uri": "https://localhost:8080/"
        },
        "outputId": "eacdd5ae-1bd8-4b69-b16a-f8d723c7bc9f"
      },
      "outputs": [
        {
          "output_type": "stream",
          "name": "stdout",
          "text": [
            "Class weights (Class Balanced Loss): [0.10840503 0.89159497]\n"
          ]
        }
      ],
      "source": [
        "effective_num = 1.0 - np.power(beta, np.array(list(train_class_counts.values())))\n",
        "class_weights_cb = (1.0 - beta) / effective_num\n",
        "class_weights_cb /= class_weights_cb.sum()  # Normalizacja wag\n",
        "print(f\"Class weights (Class Balanced Loss): {class_weights_cb}\")\n",
        "\n",
        "# Klasa dla Class Balanced Loss\n",
        "class ClassBalancedLoss(nn.Module):\n",
        "    def __init__(self, weights):\n",
        "        super().__init__()\n",
        "        self.weights = torch.tensor(weights, dtype=torch.float32)\n",
        "\n",
        "    def forward(self, logits, labels):\n",
        "        # Przeniesienie wag na to samo urządzenie co logits\n",
        "        weights = self.weights.to(logits.device)\n",
        "        # Ustawienie wag dla klasy pozytywnej (1)\n",
        "        pos_weight = weights[1]\n",
        "        # Obliczenie straty\n",
        "        criterion = nn.BCEWithLogitsLoss(pos_weight=pos_weight)\n",
        "        return criterion(logits, labels)"
      ]
    },
    {
      "cell_type": "code",
      "execution_count": null,
      "metadata": {
        "id": "swHT7gqJ7LI_",
        "colab": {
          "base_uri": "https://localhost:8080/"
        },
        "outputId": "32bffe17-defe-4409-fc04-fad3b997cdef"
      },
      "outputs": [
        {
          "output_type": "stream",
          "name": "stderr",
          "text": [
            "/usr/local/lib/python3.10/dist-packages/torchvision/models/_utils.py:208: UserWarning: The parameter 'pretrained' is deprecated since 0.13 and may be removed in the future, please use 'weights' instead.\n",
            "  warnings.warn(\n",
            "/usr/local/lib/python3.10/dist-packages/torchvision/models/_utils.py:223: UserWarning: Arguments other than a weight enum or `None` for 'weights' are deprecated since 0.13 and may be removed in the future. The current behavior is equivalent to passing `weights=None`.\n",
            "  warnings.warn(msg)\n"
          ]
        },
        {
          "output_type": "stream",
          "name": "stdout",
          "text": [
            "Epoch [1/20], Loss: 0.2423\n",
            "Epoch [1/20], Validation Average Precision: 0.2258\n",
            "Best model saved with Average Precision: 0.2258\n",
            "Epoch [2/20], Loss: 0.2298\n",
            "Epoch [2/20], Validation Average Precision: 0.2302\n",
            "Best model saved with Average Precision: 0.2302\n",
            "Epoch [3/20], Loss: 0.2251\n",
            "Epoch [3/20], Validation Average Precision: 0.2192\n",
            "Epoch [4/20], Loss: 0.2227\n",
            "Epoch [4/20], Validation Average Precision: 0.2601\n",
            "Best model saved with Average Precision: 0.2601\n",
            "Epoch [5/20], Loss: 0.2188\n",
            "Epoch [5/20], Validation Average Precision: 0.2514\n",
            "Epoch [6/20], Loss: 0.2160\n",
            "Epoch [6/20], Validation Average Precision: 0.2675\n",
            "Best model saved with Average Precision: 0.2675\n",
            "Epoch [7/20], Loss: 0.2140\n",
            "Epoch [7/20], Validation Average Precision: 0.2655\n",
            "Epoch [8/20], Loss: 0.2113\n",
            "Epoch [8/20], Validation Average Precision: 0.2400\n",
            "Epoch [9/20], Loss: 0.2103\n",
            "Epoch [9/20], Validation Average Precision: 0.2601\n",
            "Epoch [10/20], Loss: 0.2066\n",
            "Epoch [10/20], Validation Average Precision: 0.2897\n",
            "Best model saved with Average Precision: 0.2897\n",
            "Epoch [11/20], Loss: 0.2030\n",
            "Epoch [11/20], Validation Average Precision: 0.2585\n",
            "Epoch [12/20], Loss: 0.1996\n",
            "Epoch [12/20], Validation Average Precision: 0.2656\n",
            "Epoch [13/20], Loss: 0.1957\n",
            "Epoch [13/20], Validation Average Precision: 0.2666\n",
            "Epoch [14/20], Loss: 0.1906\n",
            "Epoch [14/20], Validation Average Precision: 0.2676\n",
            "Epoch [15/20], Loss: 0.1869\n",
            "Epoch [15/20], Validation Average Precision: 0.2512\n",
            "Epoch [16/20], Loss: 0.1819\n",
            "Epoch [16/20], Validation Average Precision: 0.2446\n",
            "Epoch [17/20], Loss: 0.1827\n",
            "Epoch [17/20], Validation Average Precision: 0.2308\n",
            "Epoch [18/20], Loss: 0.1646\n",
            "Epoch [18/20], Validation Average Precision: 0.2360\n",
            "Epoch [19/20], Loss: 0.1530\n",
            "Epoch [19/20], Validation Average Precision: 0.2508\n",
            "Epoch [20/20], Loss: 0.1409\n",
            "Epoch [20/20], Validation Average Precision: 0.2242\n"
          ]
        },
        {
          "output_type": "stream",
          "name": "stderr",
          "text": [
            "<ipython-input-18-b920d2021b3b>:65: FutureWarning: You are using `torch.load` with `weights_only=False` (the current default value), which uses the default pickle module implicitly. It is possible to construct malicious pickle data which will execute arbitrary code during unpickling (See https://github.com/pytorch/pytorch/blob/main/SECURITY.md#untrusted-models for more details). In a future release, the default value for `weights_only` will be flipped to `True`. This limits the functions that could be executed during unpickling. Arbitrary objects will no longer be allowed to be loaded via this mode unless they are explicitly allowlisted by the user via `torch.serialization.add_safe_globals`. We recommend you start setting `weights_only=True` for any use case where you don't have full control of the loaded file. Please open an issue on GitHub for any issues related to this experimental feature.\n",
            "  model.load_state_dict(torch.load(\"best_chestmnist_model_cb.pth\"))\n"
          ]
        },
        {
          "output_type": "stream",
          "name": "stdout",
          "text": [
            "Test Average Precision: 0.2731\n",
            "\n",
            "Classification Report:\n",
            "\n",
            "              precision    recall  f1-score   support\n",
            "\n",
            "  Not Target       0.92      1.00      0.96     20601\n",
            "      Target       0.50      0.01      0.03      1832\n",
            "\n",
            "    accuracy                           0.92     22433\n",
            "   macro avg       0.71      0.51      0.49     22433\n",
            "weighted avg       0.89      0.92      0.88     22433\n",
            "\n"
          ]
        }
      ],
      "source": [
        "model = resnet18(pretrained=False)\n",
        "model.conv1 = nn.Conv2d(1, 64, kernel_size=7, stride=2, padding=3, bias=False)  # Dopasowanie do 1 kanału\n",
        "model.fc = nn.Sequential(\n",
        "    nn.Linear(model.fc.in_features, 1)  # Klasyfikacja binarna\n",
        ")\n",
        "model = model.to(device)\n",
        "\n",
        "# Funkcja straty i optymalizator\n",
        "criterion = ClassBalancedLoss(class_weights_cb)\n",
        "optimizer = optim.Adam(model.parameters(), lr=learning_rate)\n",
        "\n",
        "# Trenowanie\n",
        "best_val_ap = 0.0\n",
        "\n",
        "for epoch in range(num_epochs):\n",
        "    model.train()\n",
        "    running_loss = 0.0\n",
        "\n",
        "    for images, labels in train_loader:\n",
        "        images, labels = images.to(device), labels.float().to(device)  # Przekształcenie etykiet na float\n",
        "\n",
        "        optimizer.zero_grad()\n",
        "        logits = model(images).squeeze()\n",
        "        loss = criterion(logits, labels)\n",
        "        loss.backward()\n",
        "        optimizer.step()\n",
        "\n",
        "        running_loss += loss.item()\n",
        "\n",
        "    print(f\"Epoch [{epoch + 1}/{num_epochs}], Loss: {running_loss / len(train_loader):.4f}\")\n",
        "\n",
        "    # Walidacja\n",
        "    model.eval()\n",
        "    val_true = []\n",
        "    val_pred = []\n",
        "\n",
        "    with torch.no_grad():\n",
        "        for images, labels in val_loader:\n",
        "            images, labels = images.to(device), labels.float().to(device)\n",
        "            logits = model(images).squeeze()\n",
        "            val_true.extend(labels.cpu().numpy())\n",
        "            val_pred.extend(torch.sigmoid(logits).cpu().numpy())\n",
        "\n",
        "    val_ap = average_precision_score(np.array(val_true), np.array(val_pred))\n",
        "    print(f\"Epoch [{epoch + 1}/{num_epochs}], Validation Average Precision: {val_ap:.4f}\")\n",
        "\n",
        "    # Zapis najlepszego modelu\n",
        "    if val_ap > best_val_ap:\n",
        "        best_val_ap = val_ap\n",
        "        torch.save(model.state_dict(), \"best_chestmnist_model_cb.pth\")\n",
        "        print(f\"Best model saved with Average Precision: {best_val_ap:.4f}\")\n",
        "\n",
        "# Testowanie\n",
        "model.load_state_dict(torch.load(\"best_chestmnist_model_cb.pth\"))\n",
        "model.eval()\n",
        "\n",
        "test_true = []\n",
        "test_pred = []\n",
        "\n",
        "with torch.no_grad():\n",
        "    for images, labels in test_loader:\n",
        "        images, labels = images.to(device), labels.float().to(device)\n",
        "        logits = model(images).squeeze()\n",
        "        test_true.extend(labels.cpu().numpy())\n",
        "        test_pred.extend(torch.sigmoid(logits).cpu().numpy())\n",
        "\n",
        "test_ap = average_precision_score(np.array(test_true), np.array(test_pred))\n",
        "print(f\"Test Average Precision: {test_ap:.4f}\")\n",
        "\n",
        "# Generowanie raportu dla najlepszego modelu\n",
        "test_pred_binary = (np.array(test_pred) > 0.5).astype(int)  # Konwersja na klasy binarne\n",
        "print(\"\\nClassification Report:\\n\")\n",
        "print(classification_report(test_true, test_pred_binary, target_names=[\"Not Target\", \"Target\"]))"
      ]
    },
    {
      "cell_type": "code",
      "execution_count": null,
      "metadata": {
        "id": "L1YNNUX1lXII",
        "colab": {
          "base_uri": "https://localhost:8080/",
          "height": 869
        },
        "outputId": "57312563-800d-4c84-a409-d406a18aa58c"
      },
      "outputs": [
        {
          "output_type": "stream",
          "name": "stdout",
          "text": [
            "=== Metryki Testowe === Class Balanced Loss ==== \n",
            "AUC-PRC: 0.2623\n",
            "AUC-ROC: 0.8042\n",
            "Accuracy: 0.9183\n",
            "Precision: 0.5000\n",
            "Recall: 0.0147\n",
            "F1-score: 0.0286\n",
            "\n",
            "Confusion Matrix:\n",
            "[[20574    27]\n",
            " [ 1805    27]]\n",
            "\n",
            "Classification Report:\n",
            "              precision    recall  f1-score   support\n",
            "\n",
            "     Class 0       0.92      1.00      0.96     20601\n",
            "     Class 1       0.50      0.01      0.03      1832\n",
            "\n",
            "    accuracy                           0.92     22433\n",
            "   macro avg       0.71      0.51      0.49     22433\n",
            "weighted avg       0.89      0.92      0.88     22433\n",
            "\n"
          ]
        },
        {
          "output_type": "display_data",
          "data": {
            "text/plain": [
              "<Figure size 600x500 with 2 Axes>"
            ],
            "image/png": "[encoded data removed]"
          },
          "metadata": {}
        }
      ],
      "source": [
        "from sklearn.metrics import (\n",
        "    roc_auc_score, accuracy_score, precision_score, recall_score,\n",
        "    f1_score, confusion_matrix, classification_report\n",
        ")\n",
        "\n",
        "test_pred = np.array(test_pred)\n",
        "\n",
        "# Obliczanie dodatkowych metryk\n",
        "test_pred_binary = (test_pred > 0.5).astype(int)  # Binarne prognozy (próg 0.5)\n",
        "\n",
        "# AUC-ROC\n",
        "test_roc_auc = roc_auc_score(test_true, test_pred)\n",
        "\n",
        "# Accuracy, Precision, Recall, F1-score\n",
        "test_accuracy = accuracy_score(test_true, test_pred_binary)\n",
        "test_precision = precision_score(test_true, test_pred_binary)\n",
        "test_recall = recall_score(test_true, test_pred_binary)\n",
        "test_f1 = f1_score(test_true, test_pred_binary)\n",
        "\n",
        "# Confusion Matrix\n",
        "test_cm = confusion_matrix(test_true, test_pred_binary)\n",
        "\n",
        "# Classification Report\n",
        "test_report = classification_report(test_true, test_pred_binary, target_names=[\"Class 0\", \"Class 1\"])\n",
        "\n",
        "# Wyświetlanie wyników\n",
        "print(\"=== Metryki Testowe === Class Balanced Loss ==== \")\n",
        "print(f\"AUC-PRC: {test_auc_prc:.4f}\")\n",
        "print(f\"AUC-ROC: {test_roc_auc:.4f}\")\n",
        "print(f\"Accuracy: {test_accuracy:.4f}\")\n",
        "print(f\"Precision: {test_precision:.4f}\")\n",
        "print(f\"Recall: {test_recall:.4f}\")\n",
        "print(f\"F1-score: {test_f1:.4f}\")\n",
        "print(\"\\nConfusion Matrix:\")\n",
        "print(test_cm)\n",
        "print(\"\\nClassification Report:\")\n",
        "print(test_report)\n",
        "\n",
        "# Wizualizacja Confusion Matrix\n",
        "import seaborn as sns\n",
        "plt.figure(figsize=(6, 5))\n",
        "sns.heatmap(test_cm, annot=True, fmt=\"d\", cmap=\"Blues\", xticklabels=[\"Class 0\", \"Class 1\"], yticklabels=[\"Class 0\", \"Class 1\"])\n",
        "plt.xlabel(\"Predicted\")\n",
        "plt.ylabel(\"Actual\")\n",
        "plt.title(\"Confusion Matrix\")\n",
        "plt.show()\n"
      ]
    },
    {
      "cell_type": "code",
      "execution_count": null,
      "metadata": {
        "id": "xPNrjzXd4S64"
      },
      "outputs": [],
      "source": [
        "class TverskyLoss(nn.Module):\n",
        "    def __init__(self, alpha=0.5, beta=0.5):\n",
        "        super().__init__()\n",
        "        self.alpha = alpha\n",
        "        self.beta = beta\n",
        "\n",
        "    def forward(self, logits, labels):\n",
        "        probs = torch.sigmoid(logits)\n",
        "        tp = (probs * labels).sum(dim=0)\n",
        "        fp = ((1 - labels) * probs).sum(dim=0)\n",
        "        fn = (labels * (1 - probs)).sum(dim=0)\n",
        "        tversky = tp / (tp + self.alpha * fp + self.beta * fn + 1e-7)\n",
        "        return 1 - tversky.mean()\n",
        "\n",
        "criterion = TverskyLoss(alpha=0.3, beta=0.7)"
      ]
    },
    {
      "cell_type": "code",
      "execution_count": null,
      "metadata": {
        "id": "68qDFIhZ4TGH",
        "colab": {
          "base_uri": "https://localhost:8080/"
        },
        "outputId": "bb8390ca-1f9e-4524-ed7e-eb64cb199c85"
      },
      "outputs": [
        {
          "output_type": "stream",
          "name": "stdout",
          "text": [
            "Epoch [1/20], Loss: 0.7021\n",
            "Epoch [1/20], Validation Average Precision: 0.1510\n",
            "Best model saved with Average Precision: 0.1510\n",
            "Epoch [2/20], Loss: 0.6829\n",
            "Epoch [2/20], Validation Average Precision: 0.1414\n",
            "Epoch [3/20], Loss: 0.6857\n",
            "Epoch [3/20], Validation Average Precision: 0.1355\n",
            "Epoch [4/20], Loss: 0.6666\n",
            "Epoch [4/20], Validation Average Precision: 0.1497\n",
            "Epoch [5/20], Loss: 0.6684\n",
            "Epoch [5/20], Validation Average Precision: 0.1461\n",
            "Epoch [6/20], Loss: 0.6730\n",
            "Epoch [6/20], Validation Average Precision: 0.1548\n",
            "Best model saved with Average Precision: 0.1548\n",
            "Epoch [7/20], Loss: 0.6709\n",
            "Epoch [7/20], Validation Average Precision: 0.1242\n",
            "Epoch [8/20], Loss: 0.6871\n",
            "Epoch [8/20], Validation Average Precision: 0.1363\n",
            "Epoch [9/20], Loss: 0.6811\n",
            "Epoch [9/20], Validation Average Precision: 0.1454\n",
            "Epoch [10/20], Loss: 0.6796\n",
            "Epoch [10/20], Validation Average Precision: 0.1479\n",
            "Epoch [11/20], Loss: 0.6728\n",
            "Epoch [11/20], Validation Average Precision: 0.1445\n",
            "Epoch [12/20], Loss: 0.6607\n",
            "Epoch [12/20], Validation Average Precision: 0.1507\n",
            "Epoch [13/20], Loss: 0.6565\n",
            "Epoch [13/20], Validation Average Precision: 0.1629\n",
            "Best model saved with Average Precision: 0.1629\n",
            "Epoch [14/20], Loss: 0.6770\n",
            "Epoch [14/20], Validation Average Precision: 0.1445\n",
            "Epoch [15/20], Loss: 0.6765\n",
            "Epoch [15/20], Validation Average Precision: 0.1381\n",
            "Epoch [16/20], Loss: 0.6588\n",
            "Epoch [16/20], Validation Average Precision: 0.1629\n",
            "Epoch [17/20], Loss: 0.6488\n",
            "Epoch [17/20], Validation Average Precision: 0.1665\n",
            "Best model saved with Average Precision: 0.1665\n",
            "Epoch [18/20], Loss: 0.6570\n",
            "Epoch [18/20], Validation Average Precision: 0.1506\n",
            "Epoch [19/20], Loss: 0.6816\n",
            "Epoch [19/20], Validation Average Precision: 0.1478\n",
            "Epoch [20/20], Loss: 0.6587\n",
            "Epoch [20/20], Validation Average Precision: 0.1595\n"
          ]
        },
        {
          "output_type": "stream",
          "name": "stderr",
          "text": [
            "<ipython-input-22-694b3e506cae>:43: FutureWarning: You are using `torch.load` with `weights_only=False` (the current default value), which uses the default pickle module implicitly. It is possible to construct malicious pickle data which will execute arbitrary code during unpickling (See https://github.com/pytorch/pytorch/blob/main/SECURITY.md#untrusted-models for more details). In a future release, the default value for `weights_only` will be flipped to `True`. This limits the functions that could be executed during unpickling. Arbitrary objects will no longer be allowed to be loaded via this mode unless they are explicitly allowlisted by the user via `torch.serialization.add_safe_globals`. We recommend you start setting `weights_only=True` for any use case where you don't have full control of the loaded file. Please open an issue on GitHub for any issues related to this experimental feature.\n",
            "  model.load_state_dict(torch.load(\"best_chestmnist_model_cb.pth\"))\n"
          ]
        },
        {
          "output_type": "stream",
          "name": "stdout",
          "text": [
            "Test Average Precision: 0.1556\n",
            "\n",
            "Classification Report:\n",
            "\n",
            "              precision    recall  f1-score   support\n",
            "\n",
            "  Not Target       0.96      0.70      0.81     20601\n",
            "      Target       0.17      0.69      0.27      1832\n",
            "\n",
            "    accuracy                           0.70     22433\n",
            "   macro avg       0.56      0.69      0.54     22433\n",
            "weighted avg       0.90      0.70      0.76     22433\n",
            "\n"
          ]
        }
      ],
      "source": [
        "# Trenowanie\n",
        "best_val_ap = 0.0\n",
        "\n",
        "for epoch in range(num_epochs):\n",
        "    model.train()\n",
        "    running_loss = 0.0\n",
        "\n",
        "    for images, labels in train_loader:\n",
        "        images, labels = images.to(device), labels.float().to(device)  # Przekształcenie etykiet na float\n",
        "\n",
        "        optimizer.zero_grad()\n",
        "        logits = model(images).squeeze()\n",
        "        loss = criterion(logits, labels)\n",
        "        loss.backward()\n",
        "        optimizer.step()\n",
        "\n",
        "        running_loss += loss.item()\n",
        "\n",
        "    print(f\"Epoch [{epoch + 1}/{num_epochs}], Loss: {running_loss / len(train_loader):.4f}\")\n",
        "\n",
        "    # Walidacja\n",
        "    model.eval()\n",
        "    val_true = []\n",
        "    val_pred = []\n",
        "\n",
        "    with torch.no_grad():\n",
        "        for images, labels in val_loader:\n",
        "            images, labels = images.to(device), labels.float().to(device)\n",
        "            logits = model(images).squeeze()\n",
        "            val_true.extend(labels.cpu().numpy())\n",
        "            val_pred.extend(torch.sigmoid(logits).cpu().numpy())\n",
        "\n",
        "    val_ap = average_precision_score(np.array(val_true), np.array(val_pred))\n",
        "    print(f\"Epoch [{epoch + 1}/{num_epochs}], Validation Average Precision: {val_ap:.4f}\")\n",
        "\n",
        "    # Zapis najlepszego modelu\n",
        "    if val_ap > best_val_ap:\n",
        "        best_val_ap = val_ap\n",
        "        torch.save(model.state_dict(), \"best_chestmnist_model_cb.pth\")\n",
        "        print(f\"Best model saved with Average Precision: {best_val_ap:.4f}\")\n",
        "\n",
        "# Testowanie\n",
        "model.load_state_dict(torch.load(\"best_chestmnist_model_cb.pth\"))\n",
        "model.eval()\n",
        "\n",
        "test_true = []\n",
        "test_pred = []\n",
        "\n",
        "with torch.no_grad():\n",
        "    for images, labels in test_loader:\n",
        "        images, labels = images.to(device), labels.float().to(device)\n",
        "        logits = model(images).squeeze()\n",
        "        test_true.extend(labels.cpu().numpy())\n",
        "        test_pred.extend(torch.sigmoid(logits).cpu().numpy())\n",
        "\n",
        "test_ap = average_precision_score(np.array(test_true), np.array(test_pred))\n",
        "print(f\"Test Average Precision: {test_ap:.4f}\")\n",
        "\n",
        "# Generowanie raportu dla najlepszego modelu\n",
        "test_pred_binary = (np.array(test_pred) > 0.5).astype(int)  # Konwersja na klasy binarne\n",
        "print(\"\\nClassification Report:\\n\")\n",
        "print(classification_report(test_true, test_pred_binary, target_names=[\"Not Target\", \"Target\"]))"
      ]
    },
    {
      "cell_type": "code",
      "execution_count": null,
      "metadata": {
        "id": "5BkIar-5ESTk",
        "colab": {
          "base_uri": "https://localhost:8080/",
          "height": 869
        },
        "outputId": "b1863723-f7cc-4507-ba4e-7ede8e9e14c1"
      },
      "outputs": [
        {
          "output_type": "stream",
          "name": "stdout",
          "text": [
            "=== Metryki Testowe === Tversky Loss ==== \n",
            "AUC-PRC: 0.2623\n",
            "AUC-ROC: 0.6901\n",
            "Accuracy: 0.6954\n",
            "Precision: 0.1674\n",
            "Recall: 0.6867\n",
            "F1-score: 0.2691\n",
            "\n",
            "Confusion Matrix:\n",
            "[[14342  6259]\n",
            " [  574  1258]]\n",
            "\n",
            "Classification Report:\n",
            "              precision    recall  f1-score   support\n",
            "\n",
            "     Class 0       0.96      0.70      0.81     20601\n",
            "     Class 1       0.17      0.69      0.27      1832\n",
            "\n",
            "    accuracy                           0.70     22433\n",
            "   macro avg       0.56      0.69      0.54     22433\n",
            "weighted avg       0.90      0.70      0.76     22433\n",
            "\n"
          ]
        },
        {
          "output_type": "display_data",
          "data": {
            "text/plain": [
              "<Figure size 600x500 with 2 Axes>"
            ],
            "image/png": "[encoded data removed]"
          },
          "metadata": {}
        }
      ],
      "source": [
        "from sklearn.metrics import (\n",
        "    roc_auc_score, accuracy_score, precision_score, recall_score,\n",
        "    f1_score, confusion_matrix, classification_report\n",
        ")\n",
        "test_pred = np.array(test_pred)\n",
        "\n",
        "# Obliczanie dodatkowych metryk\n",
        "test_pred_binary = (test_pred > 0.5).astype(int)  # Binarne prognozy (próg 0.5)\n",
        "\n",
        "# AUC-ROC\n",
        "test_roc_auc = roc_auc_score(test_true, test_pred)\n",
        "\n",
        "# Accuracy, Precision, Recall, F1-score\n",
        "test_accuracy = accuracy_score(test_true, test_pred_binary)\n",
        "test_precision = precision_score(test_true, test_pred_binary)\n",
        "test_recall = recall_score(test_true, test_pred_binary)\n",
        "test_f1 = f1_score(test_true, test_pred_binary)\n",
        "\n",
        "# Confusion Matrix\n",
        "test_cm = confusion_matrix(test_true, test_pred_binary)\n",
        "\n",
        "# Classification Report\n",
        "test_report = classification_report(test_true, test_pred_binary, target_names=[\"Class 0\", \"Class 1\"])\n",
        "\n",
        "# Wyświetlanie wyników\n",
        "print(\"=== Metryki Testowe === Tversky Loss ==== \")\n",
        "print(f\"AUC-PRC: {test_auc_prc:.4f}\")\n",
        "print(f\"AUC-ROC: {test_roc_auc:.4f}\")\n",
        "print(f\"Accuracy: {test_accuracy:.4f}\")\n",
        "print(f\"Precision: {test_precision:.4f}\")\n",
        "print(f\"Recall: {test_recall:.4f}\")\n",
        "print(f\"F1-score: {test_f1:.4f}\")\n",
        "print(\"\\nConfusion Matrix:\")\n",
        "print(test_cm)\n",
        "print(\"\\nClassification Report:\")\n",
        "print(test_report)\n",
        "\n",
        "# Wizualizacja Confusion Matrix\n",
        "import seaborn as sns\n",
        "plt.figure(figsize=(6, 5))\n",
        "sns.heatmap(test_cm, annot=True, fmt=\"d\", cmap=\"Blues\", xticklabels=[\"Class 0\", \"Class 1\"], yticklabels=[\"Class 0\", \"Class 1\"])\n",
        "plt.xlabel(\"Predicted\")\n",
        "plt.ylabel(\"Actual\")\n",
        "plt.title(\"Confusion Matrix\")\n",
        "plt.show()\n"
      ]
    },
    {
      "cell_type": "code",
      "source": [],
      "metadata": {
        "id": "Wswc8L5J12rX"
      },
      "execution_count": null,
      "outputs": []
    }
  ],
  "metadata": {
    "colab": {
      "provenance": [],
      "gpuType": "T4"
    },
    "kernelspec": {
      "display_name": "Python 3",
      "name": "python3"
    },
    "language_info": {
      "codemirror_mode": {
        "name": "ipython",
        "version": 3
      },
      "file_extension": ".py",
      "mimetype": "text/x-python",
      "name": "python",
      "nbconvert_exporter": "python",
      "pygments_lexer": "ipython3",
      "version": "3.12.7"
    },
    "accelerator": "GPU"
  },
  "nbformat": 4,
  "nbformat_minor": 0
}